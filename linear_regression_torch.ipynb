{
 "cells": [
  {
   "cell_type": "code",
   "execution_count": 4,
   "id": "c2a56933",
   "metadata": {},
   "outputs": [],
   "source": [
    "import torch\n",
    "import numpy as np\n",
    "inputs = np.array([[73, 67, 43], \n",
    "                   [91, 88, 64], \n",
    "                   [87, 134, 58], \n",
    "                   [102, 43, 37], \n",
    "                   [69, 96, 70]], dtype='float32')"
   ]
  },
  {
   "cell_type": "code",
   "execution_count": 3,
   "id": "cd5d6f82",
   "metadata": {},
   "outputs": [],
   "source": [
    "# Targets (apples, oranges)\n",
    "targets = np.array([[56, 70], \n",
    "                    [81, 101], \n",
    "                    [119, 133], \n",
    "                    [22, 37], \n",
    "                    [103, 119]], dtype='float32')"
   ]
  },
  {
   "cell_type": "code",
   "execution_count": 5,
   "id": "2cc44f10",
   "metadata": {},
   "outputs": [],
   "source": [
    "inputs=torch.from_numpy(inputs)\n",
    "targets=torch.from_numpy(targets)"
   ]
  },
  {
   "cell_type": "code",
   "execution_count": 7,
   "id": "6e3bc02c",
   "metadata": {},
   "outputs": [
    {
     "name": "stdout",
     "output_type": "stream",
     "text": [
      "tensor([[-1.1792, -1.7461, -0.2906],\n",
      "        [ 0.0863, -1.1291, -0.8181]], requires_grad=True)\n",
      "tensor([ 0.6173, -0.7461], requires_grad=True)\n"
     ]
    }
   ],
   "source": [
    "w=torch.randn(2,3,requires_grad=True)\n",
    "b=torch.randn(2,requires_grad=True)\n",
    "print(w)\n",
    "print(b)"
   ]
  },
  {
   "cell_type": "code",
   "execution_count": 8,
   "id": "438418b8",
   "metadata": {},
   "outputs": [],
   "source": [
    "def model(x):\n",
    "    return x @w.t()+b"
   ]
  },
  {
   "cell_type": "code",
   "execution_count": 9,
   "id": "f724b3e5",
   "metadata": {},
   "outputs": [
    {
     "name": "stdout",
     "output_type": "stream",
     "text": [
      "tensor([[-214.9489, -105.2758],\n",
      "        [-278.9454, -144.6139],\n",
      "        [-352.8072, -191.9900],\n",
      "        [-205.4941,  -70.7664],\n",
      "        [-268.7163, -160.4534]], grad_fn=<AddBackward0>)\n"
     ]
    }
   ],
   "source": [
    "preds=model(inputs)\n",
    "print(preds)"
   ]
  },
  {
   "cell_type": "code",
   "execution_count": 10,
   "id": "066f943a",
   "metadata": {},
   "outputs": [
    {
     "name": "stdout",
     "output_type": "stream",
     "text": [
      "tensor([[ 56.,  70.],\n",
      "        [ 81., 101.],\n",
      "        [119., 133.],\n",
      "        [ 22.,  37.],\n",
      "        [103., 119.]])\n"
     ]
    }
   ],
   "source": [
    "print(targets)"
   ]
  },
  {
   "cell_type": "code",
   "execution_count": 13,
   "id": "c9688484",
   "metadata": {},
   "outputs": [
    {
     "data": {
      "text/plain": [
       "tensor(90187.6797, grad_fn=<DivBackward0>)"
      ]
     },
     "execution_count": 13,
     "metadata": {},
     "output_type": "execute_result"
    }
   ],
   "source": [
    "diff=preds-targets\n",
    "diff_sqr=diff*diff\n",
    "torch.sum(diff*diff)/diff.numel()\n"
   ]
  },
  {
   "cell_type": "code",
   "execution_count": 14,
   "id": "9b956046",
   "metadata": {},
   "outputs": [],
   "source": [
    "#MSE loss\n",
    "def mse(t1,t2):\n",
    "    diff=t1-t2\n",
    "    return torch.sum(diff*diff)/diff.numel()"
   ]
  },
  {
   "cell_type": "code",
   "execution_count": 16,
   "id": "a6505108",
   "metadata": {},
   "outputs": [
    {
     "name": "stdout",
     "output_type": "stream",
     "text": [
      "tensor(90187.6797, grad_fn=<DivBackward0>)\n"
     ]
    }
   ],
   "source": [
    "loss=mse(preds,targets)\n",
    "print(loss)"
   ]
  },
  {
   "cell_type": "code",
   "execution_count": 17,
   "id": "afbcbc8c",
   "metadata": {},
   "outputs": [],
   "source": [
    "loss.backward()"
   ]
  },
  {
   "cell_type": "code",
   "execution_count": 18,
   "id": "fa5b1d47",
   "metadata": {},
   "outputs": [
    {
     "name": "stdout",
     "output_type": "stream",
     "text": [
      "tensor([[-1.1792, -1.7461, -0.2906],\n",
      "        [ 0.0863, -1.1291, -0.8181]], requires_grad=True)\n",
      "tensor([[-28486.8730, -31703.5938, -19297.9121],\n",
      "        [-18738.9180, -21673.5293, -13130.9336]])\n"
     ]
    }
   ],
   "source": [
    "print(w)\n",
    "print(w.grad)"
   ]
  },
  {
   "cell_type": "code",
   "execution_count": 19,
   "id": "09afd7b9",
   "metadata": {},
   "outputs": [
    {
     "name": "stdout",
     "output_type": "stream",
     "text": [
      "tensor([ 0.6173, -0.7461], requires_grad=True)\n",
      "tensor([-340.3824, -226.6199])\n"
     ]
    }
   ],
   "source": [
    "print(b)\n",
    "print(b.grad)"
   ]
  },
  {
   "cell_type": "code",
   "execution_count": 20,
   "id": "5e2100db",
   "metadata": {},
   "outputs": [],
   "source": [
    "with torch.no_grad():\n",
    "    w -= w.grad * 1e-5\n",
    "    b -= b.grad * 1e-5\n",
    "    w.grad.zero_()\n",
    "    b.grad.zero_()"
   ]
  },
  {
   "cell_type": "code",
   "execution_count": 21,
   "id": "8e2318c3",
   "metadata": {},
   "outputs": [
    {
     "name": "stdout",
     "output_type": "stream",
     "text": [
      "tensor([[-0.8943, -1.4291, -0.0976],\n",
      "        [ 0.2737, -0.9124, -0.6868]], requires_grad=True)\n",
      "tensor([ 0.6207, -0.7438], requires_grad=True)\n"
     ]
    }
   ],
   "source": [
    "print(w)\n",
    "print(b)"
   ]
  },
  {
   "cell_type": "code",
   "execution_count": 22,
   "id": "975b978b",
   "metadata": {},
   "outputs": [
    {
     "name": "stdout",
     "output_type": "stream",
     "text": [
      "tensor(61210.9922, grad_fn=<DivBackward0>)\n"
     ]
    }
   ],
   "source": [
    "#calculate loss\n",
    "preds=model(inputs)\n",
    "loss=mse(preds, targets)\n",
    "loss.backward()\n",
    "print(loss)"
   ]
  },
  {
   "cell_type": "code",
   "execution_count": 35,
   "id": "282c1557",
   "metadata": {},
   "outputs": [],
   "source": [
    "#Train for multiple epochs(runs)\n",
    "for i in range(150):\n",
    "    preds=model(inputs)\n",
    "    loss=mse(preds,targets)\n",
    "    loss.backward()\n",
    "    with torch.no_grad():\n",
    "        w-=w.grad*1e-5\n",
    "        b-=b*1e-5\n",
    "        w.grad.zero_()\n",
    "        b.grad.zero_()"
   ]
  },
  {
   "cell_type": "code",
   "execution_count": 36,
   "id": "63dbfdbb",
   "metadata": {},
   "outputs": [
    {
     "name": "stdout",
     "output_type": "stream",
     "text": [
      "tensor(18.0044, grad_fn=<DivBackward0>)\n"
     ]
    }
   ],
   "source": [
    "#calculate loss\n",
    "preds=model(inputs)\n",
    "loss=mse(preds,targets)\n",
    "print(loss)"
   ]
  },
  {
   "cell_type": "code",
   "execution_count": 37,
   "id": "5fe9268a",
   "metadata": {},
   "outputs": [
    {
     "data": {
      "application/javascript": [
       "window.require && require([\"base/js/namespace\"],function(Jupyter){Jupyter.notebook.save_checkpoint()})"
      ],
      "text/plain": [
       "<IPython.core.display.Javascript object>"
      ]
     },
     "metadata": {},
     "output_type": "display_data"
    },
    {
     "name": "stdout",
     "output_type": "stream",
     "text": [
      "[jovian] Committed successfully! https://jovian.ai/v-jha85/pytorch-linear-regression\u001b[0m\r\n"
     ]
    },
    {
     "data": {
      "text/plain": [
       "'https://jovian.ai/v-jha85/pytorch-linear-regression'"
      ]
     },
     "execution_count": 37,
     "metadata": {},
     "output_type": "execute_result"
    }
   ],
   "source": [
    "import jovian\n",
    "jovian.commit()"
   ]
  },
  {
   "cell_type": "code",
   "execution_count": 38,
   "id": "dbb61495",
   "metadata": {},
   "outputs": [],
   "source": [
    " import torch.nn as nn"
   ]
  },
  {
   "cell_type": "code",
   "execution_count": 39,
   "id": "e930de6d",
   "metadata": {},
   "outputs": [
    {
     "name": "stdout",
     "output_type": "stream",
     "text": [
      "tensor([[-0.4061,  0.7799,  0.7957],\n",
      "        [-0.1335,  0.9685,  0.3870]], requires_grad=True)\n",
      "tensor([ 0.6173, -0.7398], requires_grad=True)\n"
     ]
    }
   ],
   "source": [
    "print(w)\n",
    "print(b)"
   ]
  },
  {
   "cell_type": "code",
   "execution_count": 108,
   "id": "59204153",
   "metadata": {},
   "outputs": [],
   "source": [
    "# Input (temp, rainfall, humidity)\n",
    "inputs = np.array([[73, 67, 43], \n",
    "                   [91, 88, 64], \n",
    "                   [87, 134, 58], \n",
    "                   [102, 43, 37], \n",
    "                   [69, 96, 70], \n",
    "                   [74, 66, 43], \n",
    "                   [91, 87, 65], \n",
    "                   [88, 134, 59], \n",
    "                   [101, 44, 37], \n",
    "                   [68, 96, 71], \n",
    "                   [73, 66, 44], \n",
    "                   [92, 87, 64], \n",
    "                   [87, 135, 57], \n",
    "                   [103, 43, 36], \n",
    "                   [68, 97, 70]], \n",
    "                  dtype='float32')\n",
    "\n",
    "# Targets (apples, oranges)\n",
    "targets = np.array([[56, 70], \n",
    "                    [81, 101], \n",
    "                    [119, 133], \n",
    "                    [22, 37], \n",
    "                    [103, 119],\n",
    "                    [57, 69], \n",
    "                    [80, 102], \n",
    "                    [118, 132], \n",
    "                    [21, 38], \n",
    "                    [104, 118], \n",
    "                    [57, 69], \n",
    "                    [82, 100], \n",
    "                    [118, 134], \n",
    "                    [20, 38], \n",
    "                    [102, 120]], \n",
    "                   dtype='float32')\n",
    "\n",
    "inputs = torch.from_numpy(inputs)\n",
    "targets = torch.from_numpy(targets)"
   ]
  },
  {
   "cell_type": "code",
   "execution_count": 109,
   "id": "ddc78b56",
   "metadata": {},
   "outputs": [],
   "source": [
    "from torch.utils.data import TensorDataset"
   ]
  },
  {
   "cell_type": "code",
   "execution_count": 110,
   "id": "34547cb6",
   "metadata": {},
   "outputs": [
    {
     "data": {
      "text/plain": [
       "(tensor([[ 91.,  88.,  64.],\n",
       "         [102.,  43.,  37.],\n",
       "         [ 74.,  66.,  43.],\n",
       "         [ 88., 134.,  59.]]),\n",
       " tensor([[ 81., 101.],\n",
       "         [ 22.,  37.],\n",
       "         [ 57.,  69.],\n",
       "         [118., 132.]]))"
      ]
     },
     "execution_count": 110,
     "metadata": {},
     "output_type": "execute_result"
    }
   ],
   "source": [
    "train_ds=TensorDataset(inputs,targets)\n",
    "train_ds[[1,3,5,7]]"
   ]
  },
  {
   "cell_type": "code",
   "execution_count": 111,
   "id": "0e98b40f",
   "metadata": {},
   "outputs": [],
   "source": [
    "from torch.utils.data import DataLoader"
   ]
  },
  {
   "cell_type": "code",
   "execution_count": 112,
   "id": "9a15e110",
   "metadata": {},
   "outputs": [],
   "source": [
    "batch_size=5\n",
    "train_dl=DataLoader(train_ds,batch_size,shuffle=True)"
   ]
  },
  {
   "cell_type": "code",
   "execution_count": 161,
   "id": "2be5fb0a",
   "metadata": {},
   "outputs": [
    {
     "name": "stdout",
     "output_type": "stream",
     "text": [
      "tensor([[ 87., 135.,  57.],\n",
      "        [102.,  43.,  37.],\n",
      "        [ 91.,  87.,  65.],\n",
      "        [ 68.,  97.,  70.],\n",
      "        [101.,  44.,  37.]])\n",
      "tensor([[118., 134.],\n",
      "        [ 22.,  37.],\n",
      "        [ 80., 102.],\n",
      "        [102., 120.],\n",
      "        [ 21.,  38.]])\n",
      "tensor([[ 74.,  66.,  43.],\n",
      "        [ 69.,  96.,  70.],\n",
      "        [ 87., 134.,  58.],\n",
      "        [ 88., 134.,  59.],\n",
      "        [ 73.,  66.,  44.]])\n",
      "tensor([[ 57.,  69.],\n",
      "        [103., 119.],\n",
      "        [119., 133.],\n",
      "        [118., 132.],\n",
      "        [ 57.,  69.]])\n",
      "tensor([[ 68.,  96.,  71.],\n",
      "        [ 91.,  88.,  64.],\n",
      "        [ 73.,  67.,  43.],\n",
      "        [ 92.,  87.,  64.],\n",
      "        [103.,  43.,  36.]])\n",
      "tensor([[104., 118.],\n",
      "        [ 81., 101.],\n",
      "        [ 56.,  70.],\n",
      "        [ 82., 100.],\n",
      "        [ 20.,  38.]])\n"
     ]
    }
   ],
   "source": [
    "for xb,yb in train_dl:\n",
    "    print(xb)\n",
    "    print(yb)\n",
    "    "
   ]
  },
  {
   "cell_type": "code",
   "execution_count": 162,
   "id": "d076211e",
   "metadata": {},
   "outputs": [
    {
     "name": "stdout",
     "output_type": "stream",
     "text": [
      "Parameter containing:\n",
      "tensor([[-0.2535, -0.5467, -0.5594],\n",
      "        [-0.5011,  0.1743,  0.3789]], requires_grad=True)\n",
      "Parameter containing:\n",
      "tensor([-0.4603, -0.3651], requires_grad=True)\n"
     ]
    }
   ],
   "source": [
    "model=nn.Linear(3,2)\n",
    "print(model.weight)\n",
    "print(model.bias)"
   ]
  },
  {
   "cell_type": "code",
   "execution_count": 163,
   "id": "c219bbf8",
   "metadata": {},
   "outputs": [
    {
     "data": {
      "text/plain": [
       "[Parameter containing:\n",
       " tensor([[-0.2535, -0.5467, -0.5594],\n",
       "         [-0.5011,  0.1743,  0.3789]], requires_grad=True),\n",
       " Parameter containing:\n",
       " tensor([-0.4603, -0.3651], requires_grad=True)]"
      ]
     },
     "execution_count": 163,
     "metadata": {},
     "output_type": "execute_result"
    }
   ],
   "source": [
    "list (model.parameters())"
   ]
  },
  {
   "cell_type": "code",
   "execution_count": 164,
   "id": "ebec5440",
   "metadata": {},
   "outputs": [
    {
     "data": {
      "text/plain": [
       "tensor([[ -79.6452,   -8.9689],\n",
       "        [-107.4352,   -6.3699],\n",
       "        [-128.2131,    1.3805],\n",
       "        [ -70.5186,  -29.9570],\n",
       "        [-109.5889,    8.3214],\n",
       "        [ -79.3520,   -9.6443],\n",
       "        [-107.4479,   -6.1653],\n",
       "        [-129.0259,    1.2583],\n",
       "        [ -70.8119,  -29.2816],\n",
       "        [-109.8948,    9.2014],\n",
       "        [ -79.6579,   -8.7643],\n",
       "        [-107.1420,   -7.0453],\n",
       "        [-128.2004,    1.1759],\n",
       "        [ -70.2127,  -30.8369],\n",
       "        [-109.8821,    8.9968]], grad_fn=<AddmmBackward0>)"
      ]
     },
     "execution_count": 164,
     "metadata": {},
     "output_type": "execute_result"
    }
   ],
   "source": [
    "preds=model(inputs)\n",
    "preds"
   ]
  },
  {
   "cell_type": "code",
   "execution_count": 165,
   "id": "79f9993e",
   "metadata": {},
   "outputs": [
    {
     "name": "stdout",
     "output_type": "stream",
     "text": [
      "tensor(22039.1621, grad_fn=<MseLossBackward0>)\n"
     ]
    }
   ],
   "source": [
    "#loss\n",
    "import torch.nn.functional as F\n",
    "loss_fn=F.mse_loss\n",
    "loss=loss_fn(model(inputs),targets)\n",
    "print(loss)"
   ]
  },
  {
   "cell_type": "code",
   "execution_count": 166,
   "id": "2c7151d5",
   "metadata": {},
   "outputs": [],
   "source": [
    "#optimizer\n",
    "opt=torch.optim.SGD(model.parameters(),lr=1e-5)\n"
   ]
  },
  {
   "cell_type": "code",
   "execution_count": 167,
   "id": "20bb1f07",
   "metadata": {},
   "outputs": [],
   "source": [
    "#utility function to train model\n",
    "def fit(num_epochs,model,loss_fn,opt,train_dl):\n",
    "    for epoch in range(num_epochs):\n",
    "        for xb,yb in train_dl:\n",
    "            #print(model.weight,model.bias)\n",
    "            pred=model(xb)\n",
    "            loss=loss_fn(pred,yb)\n",
    "            loss.backward()\n",
    "            opt.step()\n",
    "            opt.zero_grad()\n",
    "        if (epoch+1) % 10==0:\n",
    "            print('Epoch [{}/{}],Loss: {:.4f}'.format(epoch+1,num_epochs,loss.item()))\n",
    "    "
   ]
  },
  {
   "cell_type": "code",
   "execution_count": 168,
   "id": "7ab35b1d",
   "metadata": {},
   "outputs": [
    {
     "name": "stdout",
     "output_type": "stream",
     "text": [
      "Epoch [10/100],Loss: 608.4096\n",
      "Epoch [20/100],Loss: 208.3013\n",
      "Epoch [30/100],Loss: 254.6902\n",
      "Epoch [40/100],Loss: 120.4502\n",
      "Epoch [50/100],Loss: 85.6475\n",
      "Epoch [60/100],Loss: 82.6694\n",
      "Epoch [70/100],Loss: 44.4844\n",
      "Epoch [80/100],Loss: 42.9606\n",
      "Epoch [90/100],Loss: 14.5884\n",
      "Epoch [100/100],Loss: 26.0842\n"
     ]
    }
   ],
   "source": [
    "fit(100,model,loss_fn,opt,train_dl)"
   ]
  },
  {
   "cell_type": "code",
   "execution_count": 169,
   "id": "602a816e",
   "metadata": {},
   "outputs": [
    {
     "data": {
      "text/plain": [
       "tensor(23.1626, grad_fn=<MseLossBackward0>)"
      ]
     },
     "execution_count": 169,
     "metadata": {},
     "output_type": "execute_result"
    }
   ],
   "source": [
    "pred=model(inputs)\n",
    "loss=loss_fn(pred,targets)\n",
    "loss"
   ]
  },
  {
   "cell_type": "code",
   "execution_count": 170,
   "id": "7ad1b837",
   "metadata": {},
   "outputs": [
    {
     "data": {
      "application/javascript": [
       "window.require && require([\"base/js/namespace\"],function(Jupyter){Jupyter.notebook.save_checkpoint()})"
      ],
      "text/plain": [
       "<IPython.core.display.Javascript object>"
      ]
     },
     "metadata": {},
     "output_type": "display_data"
    },
    {
     "name": "stdout",
     "output_type": "stream",
     "text": [
      "[jovian] Updating notebook \"v-jha85/pytorch-linear-regression\" on https://jovian.ai/\u001b[0m\n",
      "[jovian] Committed successfully! https://jovian.ai/v-jha85/pytorch-linear-regression\u001b[0m\n"
     ]
    },
    {
     "data": {
      "text/plain": [
       "'https://jovian.ai/v-jha85/pytorch-linear-regression'"
      ]
     },
     "execution_count": 170,
     "metadata": {},
     "output_type": "execute_result"
    }
   ],
   "source": [
    "jovian.commit()"
   ]
  },
  {
   "cell_type": "code",
   "execution_count": null,
   "id": "c790a884",
   "metadata": {},
   "outputs": [],
   "source": []
  }
 ],
 "metadata": {
  "kernelspec": {
   "display_name": "Python 3 (ipykernel)",
   "language": "python",
   "name": "python3"
  },
  "language_info": {
   "codemirror_mode": {
    "name": "ipython",
    "version": 3
   },
   "file_extension": ".py",
   "mimetype": "text/x-python",
   "name": "python",
   "nbconvert_exporter": "python",
   "pygments_lexer": "ipython3",
   "version": "3.8.13"
  }
 },
 "nbformat": 4,
 "nbformat_minor": 5
}
